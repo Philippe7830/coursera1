{
 "cells": [
  {
   "cell_type": "markdown",
   "id": "7a16e499-e003-486f-9f52-7f871f6f7285",
   "metadata": {},
   "source": [
    "# Data Science Tools and Ecosystem"
   ]
  },
  {
   "cell_type": "markdown",
   "id": "6e0045f5-0908-4937-a9e8-99dbf831f323",
   "metadata": {},
   "source": [
    "In this notebook, Data Science Tools and Ecosystem are summarized."
   ]
  },
  {
   "cell_type": "markdown",
   "id": "41bf9f99-9cea-48cd-9227-e8626790e11a",
   "metadata": {},
   "source": [
    "**Objectives:**\n",
    "* List popular languages for Data Science\n",
    "* Data Science Tools\n",
    "* Data Science Tools\n"
   ]
  },
  {
   "cell_type": "markdown",
   "id": "5661c22e-813b-4c4e-9591-a05c3cf67148",
   "metadata": {},
   "source": [
    "<h2>Author</h2> Philippe"
   ]
  },
  {
   "cell_type": "markdown",
   "id": "0a336248-6c5c-4500-8345-49921e3d6b23",
   "metadata": {},
   "source": [
    "Some of the popular languages that Data Scientists use are:\n",
    "1. Python\n",
    "1. R\n",
    "1. Julia"
   ]
  },
  {
   "cell_type": "markdown",
   "id": "f19bb2b1-709f-4a4a-8853-68245ab17611",
   "metadata": {
    "tags": []
   },
   "source": [
    "|Data Science Tools|\n",
    "--------------------\n",
    "|JupiterLab|\n",
    "|RStudio|\n",
    "|Jupyter Notebook|\n"
   ]
  },
  {
   "cell_type": "markdown",
   "id": "0e4053d7-3e5e-48c9-a91d-53d0589ce72c",
   "metadata": {},
   "source": [
    "### Below are a few examples of evaluating arithmetic expressions in Python"
   ]
  },
  {
   "cell_type": "code",
   "execution_count": 2,
   "id": "f5e2ddf9-a39d-4258-8ae6-c642ac8e6862",
   "metadata": {
    "tags": []
   },
   "outputs": [
    {
     "data": {
      "text/plain": [
       "17"
      ]
     },
     "execution_count": 2,
     "metadata": {},
     "output_type": "execute_result"
    }
   ],
   "source": [
    "# This a simple arithmetic expression to mutiply then add integers\n",
    "(3*4)+5"
   ]
  },
  {
   "cell_type": "code",
   "execution_count": 3,
   "id": "4474ef1e-6cf1-4b6f-a1ab-626183d59a0e",
   "metadata": {
    "tags": []
   },
   "outputs": [
    {
     "data": {
      "text/plain": [
       "3.3333333333333335"
      ]
     },
     "execution_count": 3,
     "metadata": {},
     "output_type": "execute_result"
    }
   ],
   "source": [
    "# This will convert 200 minutes to hours by diving by 60\n",
    "200./60."
   ]
  },
  {
   "cell_type": "code",
   "execution_count": null,
   "id": "24f438e3-184b-45f8-8ab9-da15d8aa7141",
   "metadata": {},
   "outputs": [],
   "source": []
  }
 ],
 "metadata": {
  "kernelspec": {
   "display_name": "Python",
   "language": "python",
   "name": "conda-env-python-py"
  },
  "language_info": {
   "codemirror_mode": {
    "name": "ipython",
    "version": 3
   },
   "file_extension": ".py",
   "mimetype": "text/x-python",
   "name": "python",
   "nbconvert_exporter": "python",
   "pygments_lexer": "ipython3",
   "version": "3.7.12"
  }
 },
 "nbformat": 4,
 "nbformat_minor": 5
}
